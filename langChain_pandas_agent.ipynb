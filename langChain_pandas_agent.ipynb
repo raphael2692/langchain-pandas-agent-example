{
  "nbformat": 4,
  "nbformat_minor": 0,
  "metadata": {
    "colab": {
      "provenance": []
    },
    "kernelspec": {
      "name": "python3",
      "display_name": "Python 3"
    },
    "language_info": {
      "name": "python"
    }
  },
  "cells": [
    {
      "cell_type": "code",
      "source": [
        "!pip install langchain"
      ],
      "metadata": {
        "id": "7XEY_qVZPAvv"
      },
      "execution_count": null,
      "outputs": []
    },
    {
      "cell_type": "code",
      "execution_count": 1,
      "metadata": {
        "id": "MNjwx-WtLUN7"
      },
      "outputs": [],
      "source": [
        "import os\n",
        "\n",
        "import pandas as pd\n",
        "from langchain.agents import create_pandas_dataframe_agent\n",
        "from langchain.llms import OpenAI\n",
        "# os.environ[\"OPENAI_API_KEY\"] = # Uncomment and provide you own apikey"
      ]
    },
    {
      "cell_type": "code",
      "source": [
        "df = pd.read_csv(\"/content/package-manifest.csv\")"
      ],
      "metadata": {
        "id": "LdXj_ofPLtVh"
      },
      "execution_count": 2,
      "outputs": []
    },
    {
      "cell_type": "code",
      "source": [
        "df.head()"
      ],
      "metadata": {
        "colab": {
          "base_uri": "https://localhost:8080/",
          "height": 206
        },
        "id": "D1El2aM2LxjG",
        "outputId": "de3ad54d-8622-41b8-ff62-5c5305bf98fd"
      },
      "execution_count": 3,
      "outputs": [
        {
          "output_type": "execute_result",
          "data": {
            "text/plain": [
              "  package_name version                                            summary  \\\n",
              "0        Babel   2.7.0                     Internationalization utilities   \n",
              "1        Baker     1.3  Easy, powerful access to Python functions from...   \n",
              "2       Boruta     0.3  Python Implementation of Boruta Feature Selection   \n",
              "3   Bottleneck   1.2.1            Fast NumPy array functions written in C   \n",
              "4     CVXcanon   0.1.1  A low-level library to perform the matrix buil...   \n",
              "\n",
              "          license metadata_source  \n",
              "0             BSD            PyPI  \n",
              "1      Apache 2.0            PyPI  \n",
              "2    BSD 3 clause            PyPI  \n",
              "3  Simplified BSD            PyPI  \n",
              "4           GPLv3            PyPI  "
            ],
            "text/html": [
              "\n",
              "  <div id=\"df-0eea771d-7990-4890-9767-4ace3f86d96e\">\n",
              "    <div class=\"colab-df-container\">\n",
              "      <div>\n",
              "<style scoped>\n",
              "    .dataframe tbody tr th:only-of-type {\n",
              "        vertical-align: middle;\n",
              "    }\n",
              "\n",
              "    .dataframe tbody tr th {\n",
              "        vertical-align: top;\n",
              "    }\n",
              "\n",
              "    .dataframe thead th {\n",
              "        text-align: right;\n",
              "    }\n",
              "</style>\n",
              "<table border=\"1\" class=\"dataframe\">\n",
              "  <thead>\n",
              "    <tr style=\"text-align: right;\">\n",
              "      <th></th>\n",
              "      <th>package_name</th>\n",
              "      <th>version</th>\n",
              "      <th>summary</th>\n",
              "      <th>license</th>\n",
              "      <th>metadata_source</th>\n",
              "    </tr>\n",
              "  </thead>\n",
              "  <tbody>\n",
              "    <tr>\n",
              "      <th>0</th>\n",
              "      <td>Babel</td>\n",
              "      <td>2.7.0</td>\n",
              "      <td>Internationalization utilities</td>\n",
              "      <td>BSD</td>\n",
              "      <td>PyPI</td>\n",
              "    </tr>\n",
              "    <tr>\n",
              "      <th>1</th>\n",
              "      <td>Baker</td>\n",
              "      <td>1.3</td>\n",
              "      <td>Easy, powerful access to Python functions from...</td>\n",
              "      <td>Apache 2.0</td>\n",
              "      <td>PyPI</td>\n",
              "    </tr>\n",
              "    <tr>\n",
              "      <th>2</th>\n",
              "      <td>Boruta</td>\n",
              "      <td>0.3</td>\n",
              "      <td>Python Implementation of Boruta Feature Selection</td>\n",
              "      <td>BSD 3 clause</td>\n",
              "      <td>PyPI</td>\n",
              "    </tr>\n",
              "    <tr>\n",
              "      <th>3</th>\n",
              "      <td>Bottleneck</td>\n",
              "      <td>1.2.1</td>\n",
              "      <td>Fast NumPy array functions written in C</td>\n",
              "      <td>Simplified BSD</td>\n",
              "      <td>PyPI</td>\n",
              "    </tr>\n",
              "    <tr>\n",
              "      <th>4</th>\n",
              "      <td>CVXcanon</td>\n",
              "      <td>0.1.1</td>\n",
              "      <td>A low-level library to perform the matrix buil...</td>\n",
              "      <td>GPLv3</td>\n",
              "      <td>PyPI</td>\n",
              "    </tr>\n",
              "  </tbody>\n",
              "</table>\n",
              "</div>\n",
              "      <button class=\"colab-df-convert\" onclick=\"convertToInteractive('df-0eea771d-7990-4890-9767-4ace3f86d96e')\"\n",
              "              title=\"Convert this dataframe to an interactive table.\"\n",
              "              style=\"display:none;\">\n",
              "        \n",
              "  <svg xmlns=\"http://www.w3.org/2000/svg\" height=\"24px\"viewBox=\"0 0 24 24\"\n",
              "       width=\"24px\">\n",
              "    <path d=\"M0 0h24v24H0V0z\" fill=\"none\"/>\n",
              "    <path d=\"M18.56 5.44l.94 2.06.94-2.06 2.06-.94-2.06-.94-.94-2.06-.94 2.06-2.06.94zm-11 1L8.5 8.5l.94-2.06 2.06-.94-2.06-.94L8.5 2.5l-.94 2.06-2.06.94zm10 10l.94 2.06.94-2.06 2.06-.94-2.06-.94-.94-2.06-.94 2.06-2.06.94z\"/><path d=\"M17.41 7.96l-1.37-1.37c-.4-.4-.92-.59-1.43-.59-.52 0-1.04.2-1.43.59L10.3 9.45l-7.72 7.72c-.78.78-.78 2.05 0 2.83L4 21.41c.39.39.9.59 1.41.59.51 0 1.02-.2 1.41-.59l7.78-7.78 2.81-2.81c.8-.78.8-2.07 0-2.86zM5.41 20L4 18.59l7.72-7.72 1.47 1.35L5.41 20z\"/>\n",
              "  </svg>\n",
              "      </button>\n",
              "      \n",
              "  <style>\n",
              "    .colab-df-container {\n",
              "      display:flex;\n",
              "      flex-wrap:wrap;\n",
              "      gap: 12px;\n",
              "    }\n",
              "\n",
              "    .colab-df-convert {\n",
              "      background-color: #E8F0FE;\n",
              "      border: none;\n",
              "      border-radius: 50%;\n",
              "      cursor: pointer;\n",
              "      display: none;\n",
              "      fill: #1967D2;\n",
              "      height: 32px;\n",
              "      padding: 0 0 0 0;\n",
              "      width: 32px;\n",
              "    }\n",
              "\n",
              "    .colab-df-convert:hover {\n",
              "      background-color: #E2EBFA;\n",
              "      box-shadow: 0px 1px 2px rgba(60, 64, 67, 0.3), 0px 1px 3px 1px rgba(60, 64, 67, 0.15);\n",
              "      fill: #174EA6;\n",
              "    }\n",
              "\n",
              "    [theme=dark] .colab-df-convert {\n",
              "      background-color: #3B4455;\n",
              "      fill: #D2E3FC;\n",
              "    }\n",
              "\n",
              "    [theme=dark] .colab-df-convert:hover {\n",
              "      background-color: #434B5C;\n",
              "      box-shadow: 0px 1px 3px 1px rgba(0, 0, 0, 0.15);\n",
              "      filter: drop-shadow(0px 1px 2px rgba(0, 0, 0, 0.3));\n",
              "      fill: #FFFFFF;\n",
              "    }\n",
              "  </style>\n",
              "\n",
              "      <script>\n",
              "        const buttonEl =\n",
              "          document.querySelector('#df-0eea771d-7990-4890-9767-4ace3f86d96e button.colab-df-convert');\n",
              "        buttonEl.style.display =\n",
              "          google.colab.kernel.accessAllowed ? 'block' : 'none';\n",
              "\n",
              "        async function convertToInteractive(key) {\n",
              "          const element = document.querySelector('#df-0eea771d-7990-4890-9767-4ace3f86d96e');\n",
              "          const dataTable =\n",
              "            await google.colab.kernel.invokeFunction('convertToInteractive',\n",
              "                                                     [key], {});\n",
              "          if (!dataTable) return;\n",
              "\n",
              "          const docLinkHtml = 'Like what you see? Visit the ' +\n",
              "            '<a target=\"_blank\" href=https://colab.research.google.com/notebooks/data_table.ipynb>data table notebook</a>'\n",
              "            + ' to learn more about interactive tables.';\n",
              "          element.innerHTML = '';\n",
              "          dataTable['output_type'] = 'display_data';\n",
              "          await google.colab.output.renderOutput(dataTable, element);\n",
              "          const docLink = document.createElement('div');\n",
              "          docLink.innerHTML = docLinkHtml;\n",
              "          element.appendChild(docLink);\n",
              "        }\n",
              "      </script>\n",
              "    </div>\n",
              "  </div>\n",
              "  "
            ]
          },
          "metadata": {},
          "execution_count": 3
        }
      ]
    },
    {
      "cell_type": "code",
      "source": [
        "agent = create_pandas_dataframe_agent(OpenAI(temperature=0), df, verbose=True)"
      ],
      "metadata": {
        "id": "_CKCD9mLL1lv"
      },
      "execution_count": null,
      "outputs": []
    },
    {
      "cell_type": "code",
      "source": [
        "agent.run(\"what are the best packages for data visualization?\")"
      ],
      "metadata": {
        "colab": {
          "base_uri": "https://localhost:8080/",
          "height": 643
        },
        "id": "4IT-G0IiMaU8",
        "outputId": "75b7e342-e514-4476-cbd0-0d9a0456ecaa"
      },
      "execution_count": 14,
      "outputs": [
        {
          "output_type": "stream",
          "name": "stdout",
          "text": [
            "\n",
            "\n",
            "\u001b[1m> Entering new AgentExecutor chain...\u001b[0m\n",
            "\u001b[32;1m\u001b[1;3mThought: I need to find packages that are related to data visualization\n",
            "Action: python_repl_ast\n",
            "Action Input: df[df['summary'].str.contains('visualization')]\u001b[0m\n",
            "Observation: \u001b[36;1m\u001b[1;3mCannot mask with non-boolean array containing NA / NaN values\u001b[0m\n",
            "Thought:\u001b[32;1m\u001b[1;3m I need to filter out the NA/NaN values\n",
            "Action: python_repl_ast\n",
            "Action Input: df[df['summary'].str.contains('visualization', na=False)]\u001b[0m\n",
            "Observation: \u001b[36;1m\u001b[1;3m    package_name version                                            summary  \\\n",
            "62        altair   3.2.0  Altair: A declarative statistical visualizatio...   \n",
            "145   datashader   0.7.0  Data visualization toolchain based on aggregat...   \n",
            "224     graphviz   0.8.4          Open Source graph visualization software.   \n",
            "317    missingno   0.4.2      Missing data visualization module for Python.   \n",
            "425     pyLDAvis   2.1.2  Interactive topic model visualization. Port of...   \n",
            "519      seaborn   0.9.0                     Statistical data visualization   \n",
            "604         vida     0.3        Python binding for Vida data visualizations   \n",
            "605       visvis  1.11.2  An object oriented approach to visualization o...   \n",
            "607          vtk   8.1.2  VTK is an open-source toolkit for 3D computer ...   \n",
            "\n",
            "          license metadata_source  \n",
            "62   BSD 3-clause            PyPI  \n",
            "145  BSD-3-Clause        Anaconda  \n",
            "224      EPL v1.0        Anaconda  \n",
            "317           NaN            PyPI  \n",
            "425           MIT            PyPI  \n",
            "519  BSD 3-Clause        Anaconda  \n",
            "604       UNKNOWN            PyPI  \n",
            "605  BSD 3-Clause        Anaconda  \n",
            "607           BSD            PyPI  \u001b[0m\n",
            "Thought:\u001b[32;1m\u001b[1;3m I now know the best packages for data visualization\n",
            "Final Answer: altair, datashader, graphviz, missingno, pyLDAvis, seaborn, vida, visvis, and vtk.\u001b[0m\n",
            "\n",
            "\u001b[1m> Finished chain.\u001b[0m\n"
          ]
        },
        {
          "output_type": "execute_result",
          "data": {
            "text/plain": [
              "'altair, datashader, graphviz, missingno, pyLDAvis, seaborn, vida, visvis, and vtk.'"
            ],
            "application/vnd.google.colaboratory.intrinsic+json": {
              "type": "string"
            }
          },
          "metadata": {},
          "execution_count": 14
        }
      ]
    }
  ]
}